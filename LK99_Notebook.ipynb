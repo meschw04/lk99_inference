{
 "cells": [
  {
   "cell_type": "code",
   "execution_count": 1,
   "metadata": {},
   "outputs": [],
   "source": [
    "import pandas as pd\n",
    "import matplotlib.pyplot as plt\n",
    "import ollama\n",
    "from tqdm import tqdm"
   ]
  },
  {
   "cell_type": "code",
   "execution_count": 2,
   "metadata": {},
   "outputs": [
    {
     "data": {
      "text/plain": [
       "\"This paper examines the way of thinking and limitations of physicists regarding the phenomenon of superconductivity and outlines how room-temperature and ambient-pressure superconductors can be developed through the statistical thermodynamic background of the liquid state theory. In hypothesis, the number of electron states should be limited by confining them to a state close to one-Dimension. Simultaneously, the electron-electron interactions should be frequent enough for the electrons to have liquid-like properties. As an example of implementing the hypothesis, our team reports the development of room-temperature and ambient-pressure superconductivity of a material named LK-99 (superconducting compound name developed in the research), whose structure was revealed through numerous experiments with a clue found by chance. Moreover, we summarize the theoretical and experimental basis for the characteristics and discovery of the world's first superconducting material surpassing the critical temperature of 97℃ at atmospheric pressure.\""
      ]
     },
     "execution_count": 2,
     "metadata": {},
     "output_type": "execute_result"
    }
   ],
   "source": [
    "df = pd.read_excel('LK99_Data.xlsx')\n",
    "df['abstract'][0]\n"
   ]
  },
  {
   "cell_type": "code",
   "execution_count": 22,
   "metadata": {},
   "outputs": [
    {
     "name": "stderr",
     "output_type": "stream",
     "text": [
      "100%|██████████| 60/60 [00:43<00:00,  1.36it/s]\n"
     ]
    }
   ],
   "source": [
    "init_prompt = 'You are a hypothesis bot. You take a hypothesis along with a short paragraph. You respond with a single word: \"yes\" means the hypothesis is substantiated in the paragraph, \"no\" means the hypothesis is not substantiated in the short paragrah, or \"neutral\" if it cannot be determined whether the hypothesis is substantiated in the paragraph. Do you understand?'\n",
    "all_lk99_responses = []\n",
    "hypothesis = 'LK-99 is a room-temperature superconductor.'\n",
    "for i in tqdm(range(len(df))):\n",
    "    abs1 = df['abstract'][i]\n",
    "    test_abstract = f'Hypothesis: \"{hypothesis}\" Statement: \"{abs1}\"'\n",
    "    response = ollama.chat(model='llama3',messages=[{'role':'system','content':init_prompt},{'role':'user','content':test_abstract}])\n",
    "    all_lk99_responses.append(response['message']['content'].lower().replace('.','').replace(' ',''))\n",
    "df['lk99_veracity'] = all_lk99_responses"
   ]
  },
  {
   "cell_type": "code",
   "execution_count": 4,
   "metadata": {},
   "outputs": [
    {
     "data": {
      "text/html": [
       "<div>\n",
       "<style scoped>\n",
       "    .dataframe tbody tr th:only-of-type {\n",
       "        vertical-align: middle;\n",
       "    }\n",
       "\n",
       "    .dataframe tbody tr th {\n",
       "        vertical-align: top;\n",
       "    }\n",
       "\n",
       "    .dataframe thead th {\n",
       "        text-align: right;\n",
       "    }\n",
       "</style>\n",
       "<table border=\"1\" class=\"dataframe\">\n",
       "  <thead>\n",
       "    <tr style=\"text-align: right;\">\n",
       "      <th></th>\n",
       "      <th>paper_title</th>\n",
       "      <th>doi</th>\n",
       "      <th>journal</th>\n",
       "      <th>journal_if</th>\n",
       "      <th>citations</th>\n",
       "      <th>date</th>\n",
       "      <th>abstract</th>\n",
       "      <th>lk99_veracity</th>\n",
       "    </tr>\n",
       "  </thead>\n",
       "  <tbody>\n",
       "    <tr>\n",
       "      <th>0</th>\n",
       "      <td>Consideration for the development of room-temp...</td>\n",
       "      <td>10.6111/JKCGCT.2023.33.2.061</td>\n",
       "      <td>Journal of the Korea Crystal Growth and Crysta...</td>\n",
       "      <td>0.3</td>\n",
       "      <td>25</td>\n",
       "      <td>2023-04-18</td>\n",
       "      <td>This paper examines the way of thinking and li...</td>\n",
       "      <td>yes</td>\n",
       "    </tr>\n",
       "    <tr>\n",
       "      <th>1</th>\n",
       "      <td>The First Room-Temperature Ambient-Pressure Su...</td>\n",
       "      <td>10.48550/arXiv.2307.12008</td>\n",
       "      <td>arxiv</td>\n",
       "      <td>NaN</td>\n",
       "      <td>64</td>\n",
       "      <td>2023-07-22</td>\n",
       "      <td>For the first time in the world, we succeeded ...</td>\n",
       "      <td>yes</td>\n",
       "    </tr>\n",
       "    <tr>\n",
       "      <th>2</th>\n",
       "      <td>Superconductor Pb10−xCux(PO4)6O showing levita...</td>\n",
       "      <td>10.48550/arXiv.2307.12037</td>\n",
       "      <td>arxiv</td>\n",
       "      <td>NaN</td>\n",
       "      <td>56</td>\n",
       "      <td>2023-07-22</td>\n",
       "      <td>A material called LK-99, a modified-lead apati...</td>\n",
       "      <td>yes</td>\n",
       "    </tr>\n",
       "    <tr>\n",
       "      <th>58</th>\n",
       "      <td>Origin of correlated isolated flat bands in co...</td>\n",
       "      <td>10.48550/arXiv.2307.16892</td>\n",
       "      <td>arxiv</td>\n",
       "      <td>NaN</td>\n",
       "      <td>42</td>\n",
       "      <td>2023-07-31</td>\n",
       "      <td>A recent report of room temperature supercondu...</td>\n",
       "      <td>no</td>\n",
       "    </tr>\n",
       "    <tr>\n",
       "      <th>53</th>\n",
       "      <td>Electronic Structure and Vibrational Stability...</td>\n",
       "      <td>10.48550/arXiv.2308.01135</td>\n",
       "      <td>arxiv</td>\n",
       "      <td>NaN</td>\n",
       "      <td>23</td>\n",
       "      <td>2023-08-02</td>\n",
       "      <td>Two recent preprints in the physics archive (a...</td>\n",
       "      <td>yes</td>\n",
       "    </tr>\n",
       "  </tbody>\n",
       "</table>\n",
       "</div>"
      ],
      "text/plain": [
       "                                          paper_title  \\\n",
       "0   Consideration for the development of room-temp...   \n",
       "1   The First Room-Temperature Ambient-Pressure Su...   \n",
       "2   Superconductor Pb10−xCux(PO4)6O showing levita...   \n",
       "58  Origin of correlated isolated flat bands in co...   \n",
       "53  Electronic Structure and Vibrational Stability...   \n",
       "\n",
       "                             doi  \\\n",
       "0   10.6111/JKCGCT.2023.33.2.061   \n",
       "1      10.48550/arXiv.2307.12008   \n",
       "2      10.48550/arXiv.2307.12037   \n",
       "58     10.48550/arXiv.2307.16892   \n",
       "53     10.48550/arXiv.2308.01135   \n",
       "\n",
       "                                              journal  journal_if  citations  \\\n",
       "0   Journal of the Korea Crystal Growth and Crysta...         0.3         25   \n",
       "1                                               arxiv         NaN         64   \n",
       "2                                               arxiv         NaN         56   \n",
       "58                                              arxiv         NaN         42   \n",
       "53                                              arxiv         NaN         23   \n",
       "\n",
       "         date                                           abstract lk99_veracity  \n",
       "0  2023-04-18  This paper examines the way of thinking and li...           yes  \n",
       "1  2023-07-22  For the first time in the world, we succeeded ...           yes  \n",
       "2  2023-07-22  A material called LK-99, a modified-lead apati...           yes  \n",
       "58 2023-07-31  A recent report of room temperature supercondu...            no  \n",
       "53 2023-08-02  Two recent preprints in the physics archive (a...           yes  "
      ]
     },
     "execution_count": 4,
     "metadata": {},
     "output_type": "execute_result"
    }
   ],
   "source": [
    "df = df.sort_values(by=['date'])\n",
    "df.head()"
   ]
  },
  {
   "cell_type": "code",
   "execution_count": 5,
   "metadata": {},
   "outputs": [],
   "source": [
    "import datetime\n",
    "import numpy as np\n",
    "\n",
    "#MANIFOLD\n",
    "betting_data = [[datetime.date(2023,7,26),0.25],\n",
    "                [datetime.date(2023,7,27),0.20],\n",
    "                [datetime.date(2023,7,28),0.20],\n",
    "                [datetime.date(2023,7,29),0.18],\n",
    "                [datetime.date(2023,7,30),0.15],\n",
    "                [datetime.date(2023,7,31),0.30],\n",
    "                [datetime.date(2023,8,1),0.60],\n",
    "                [datetime.date(2023,8,2),0.39],\n",
    "                [datetime.date(2023,8,3),0.34],\n",
    "                [datetime.date(2023,8,4),0.37],\n",
    "                [datetime.date(2023,8,5),0.35],\n",
    "                [datetime.date(2023,8,6),0.40],\n",
    "                [datetime.date(2023,8,7),0.37],\n",
    "                [datetime.date(2023,8,8),0.17],\n",
    "                [datetime.date(2023,8,9),0.16],\n",
    "                [datetime.date(2023,8,10),0.16],\n",
    "                [datetime.date(2023,8,11),0.13],\n",
    "                [datetime.date(2023,8,12),0.13],\n",
    "                [datetime.date(2023,8,13),0.12],\n",
    "                [datetime.date(2023,8,14),0.12],\n",
    "                [datetime.date(2023,8,15),0.11],\n",
    "                [datetime.date(2023,8,16),0.10],\n",
    "                [datetime.date(2023,8,31),0.08],\n",
    "                [datetime.date(2023,9,30),0.06],\n",
    "                [datetime.date(2023,10,31),0.04]]\n",
    "betting_df = pd.DataFrame(np.array(betting_data),columns=['date','probability'])"
   ]
  },
  {
   "cell_type": "code",
   "execution_count": 24,
   "metadata": {},
   "outputs": [
    {
     "name": "stderr",
     "output_type": "stream",
     "text": [
      "/home/meschw04/.local/lib/python3.10/site-packages/_plotly_utils/basevalidators.py:107: FutureWarning:\n",
      "\n",
      "The behavior of DatetimeProperties.to_pydatetime is deprecated, in a future version this will return a Series containing python datetime objects instead of an ndarray. To retain the old behavior, call `np.array` on the result\n",
      "\n"
     ]
    },
    {
     "data": {
      "application/vnd.plotly.v1+json": {
       "config": {
        "plotlyServerURL": "https://plot.ly"
       },
       "data": [
        {
         "customdata": [
          [
           "10.6111/JKCGCT.2023.33.2.061",
           "yes",
           "Journal of the Korea Crystal Growth and Crystal Technology",
           0.3,
           25
          ],
          [
           "10.48550/arXiv.2307.12008",
           "yes",
           "arxiv",
           null,
           64
          ],
          [
           "10.48550/arXiv.2307.12037",
           "yes",
           "arxiv",
           null,
           56
          ],
          [
           "10.48550/arXiv.2307.16892",
           "no",
           "arxiv",
           null,
           42
          ],
          [
           "10.48550/arXiv.2308.01135",
           "no",
           "arxiv",
           null,
           23
          ],
          [
           "10.1016/j.matt.2023.11.014",
           "no",
           "arxiv",
           null,
           0
          ],
          [
           "10.48550/arXiv.2308.01135",
           "no",
           "arxiv",
           null,
           23
          ],
          [
           "10.48550/arXiv.2308.01516",
           "no",
           "arxiv",
           null,
           23
          ],
          [
           "10.48550/arXiv.2308.02469",
           "yes",
           "arxiv",
           null,
           13
          ],
          [
           "10.48550/arXiv.2308.04461",
           "no",
           "arxiv",
           null,
           0
          ],
          [
           "10.48550/arXiv.2308.03823",
           "yes",
           "arxiv",
           null,
           12
          ],
          [
           "10.1016/j.matt.2023.11.001",
           "yes",
           "arxiv",
           null,
           13
          ],
          [
           "10.21203/rs.3.rs-3208998/v1",
           "no",
           "Research Square",
           null,
           0
          ],
          [
           "10.48550/arXiv.2308.04480",
           "no",
           "arxiv",
           null,
           1
          ],
          [
           "10.48550/arXiv.2308.05001",
           "no",
           "arxiv",
           null,
           17
          ],
          [
           "10.1016/j.matt.2023.11.014",
           "no",
           "arxiv",
           null,
           8
          ],
          [
           "10.48550/arXiv.2308.03948",
           "no",
           "arxiv",
           null,
           0
          ],
          [
           "10.48550/arXiv.2308.06684",
           "no",
           "arxiv",
           null,
           5
          ],
          [
           "10.1007/s11433-023-2201-9",
           "no",
           "Science China Physics, Mechanics and Astronomy",
           5.2,
           36
          ],
          [
           "10.48550/arXiv.2308.08454",
           "yes",
           "arxiv",
           null,
           7
          ],
          [
           "10.48550/arXiv.2308.09900",
           "no",
           "arxiv",
           null,
           1
          ],
          [
           "10.48550/arXiv.2309.17445",
           "no",
           "arxiv",
           null,
           1
          ],
          [
           "10.48550/arXiv.2308.00698",
           "no",
           "arxiv",
           null,
           27
          ],
          [
           "10.48550/arXiv.2308.11542",
           "no",
           "arxiv",
           null,
           0
          ],
          [
           "10.48550/arXiv.2308.13275",
           "no",
           "arxiv",
           null,
           0
          ],
          [
           "10.1103/PhysRevMaterials.7.084804",
           "neutral",
           "Physical Review Materials",
           3.4,
           16
          ],
          [
           "10.1088/1361-6668/acf002",
           "no",
           "Superconductor Science and Technology",
           3.5,
           34
          ],
          [
           "10.1021/acsenergylett.3c01651",
           "no",
           "ACS Energy Letters",
           22,
           7
          ],
          [
           "10.1007/s44214-023-00035-z",
           "no",
           "Quantum Frontiers",
           7.5,
           12
          ],
          [
           "10.48550/arXiv.2309.01755",
           "no",
           "arxiv",
           null,
           0
          ],
          [
           "10.1021/acs.jpcc.3c05684",
           "no",
           "Journal of Physical Chemistry C",
           3.7,
           27
          ],
          [
           "10.48550/arXiv.2310.08594",
           "yes",
           "arxiv",
           null,
           0
          ],
          [
           "10.48550/arXiv.2309.07928",
           "no",
           "arxiv",
           null,
           0
          ],
          [
           "10.3390/cryst13091371",
           "yes",
           "MDPI Crystals",
           2.7,
           8
          ],
          [
           "10.1021/jacs.3c08726",
           "neutral",
           "Journal of the American Chemical Society",
           15,
           0
          ],
          [
           null,
           "no",
           "HAL Open Science",
           null,
           1
          ],
          [
           "10.1016/j.mtcomm.2023.107293",
           "no",
           "Materials Today Communications",
           3.8,
           1
          ],
          [
           "10.1063/5.0172755",
           "no",
           "APL Materials",
           6.1,
           28
          ],
          [
           "10.1021/acsomega.3c06096",
           "no",
           "ACS Omega",
           4.1,
           24
          ],
          [
           "10.1103/PhysRevMaterials.7.114804",
           "no",
           "Physical Review Materials",
           3.4,
           6
          ],
          [
           "10.21468/SciPostPhys.15.5.197",
           "yes",
           "SciPost Physics",
           5.5,
           7
          ],
          [
           "10.1016/j.matt.2023.11.001",
           "no",
           "Matter",
           18.9,
           29
          ],
          [
           "10.1016/j.mtcomm.2023.107379",
           "no",
           "Materials Today Communications",
           3.8,
           7
          ],
          [
           "10.1016/j.matt.2023.11.010",
           "yes",
           "Cell Matter",
           5.3,
           1
          ],
          [
           "10.1016/j.matt.2023.11.014",
           "no",
           "Cell Matter",
           5.3,
           1
          ],
          [
           "10.1007/s11433-023-2209-7",
           "yes",
           "Science China Physics, Mechanics and Astronomy",
           5.2,
           7
          ],
          [
           "10.1021/acs.chemmater.3c02054",
           "no",
           "Chemistry of Materials",
           8.6,
           6
          ],
          [
           "10.1021/acs.jpcc.3c06709",
           "neutral",
           "Journal of the American Chemical Society",
           15,
           1
          ],
          [
           "10.9714/psac.2023.25.4.010",
           "no",
           "Progress in Superconductivity and Cryogenics",
           null,
           0
          ],
          [
           "10.1021/acs.nanolett.3c03457",
           "yes",
           "Nano Letters",
           10.8,
           1
          ],
          [
           "10.1021/acsenergylett.3c02544",
           "neutral",
           "ACS Energy Letters",
           22,
           2
          ],
          [
           "10.1007/s10853-023-09261-1",
           "yes",
           "Journal of Materials Science",
           4.5,
           1
          ],
          [
           "10.1038/s41524-024-01206-9",
           "no",
           "NPJ Computational Materials",
           9.7,
           1
          ],
          [
           "10.3103/S1060992X23070020",
           "no",
           "Optical Memory and Neural Networks",
           0.9,
           4
          ],
          [
           "10.1063/5.0183271",
           "no",
           "APL Materials",
           6.1,
           1
          ],
          [
           "10.48550/arXiv.2402.18588",
           "no",
           "arxiv",
           null,
           0
          ],
          [
           "10.1063/5.0188943",
           "no",
           "APL Materials",
           6.1,
           3
          ],
          [
           "10.1088/1361-6668/ad2b78",
           "yes",
           "Superconductor Science and Technology",
           3.5,
           5
          ],
          [
           "10.1016/j.cap.2024.03.007",
           "no",
           "Current Applied Physics",
           2.4,
           1
          ],
          [
           "10.48550/arXiv.2403.11126",
           "no",
           "arxiv",
           null,
           0
          ]
         ],
         "hovertemplate": "<b>%{hovertext}</b><br><br>date=%{x}<br>likelihood=%{y}<br>doi=%{customdata[0]}<br>lk99_veracity=%{customdata[1]}<br>journal=%{customdata[2]}<br>journal_if=%{customdata[3]}<br>citations=%{customdata[4]}<extra></extra>",
         "hovertext": [
          "Consideration for the development of room-temperature ambient-pressure superconductor (LK-99)",
          "The First Room-Temperature Ambient-Pressure Superconductor",
          "Superconductor Pb10−xCux(PO4)6O showing levitation at room temperature and atmospheric pressure and mechanism",
          "Origin of correlated isolated flat bands in copper-substituted lead phosphate apatite",
          "Electronic Structure and Vibrational Stability of Copper-substituted Lead Apatite (LK-99)",
          "Observation of zero resistance above 100∘ K in Pb10−xCux(PO4)6O",
          "Electronic Structure and Vibrational Stability of Copper-substituted Lead Apatite (LK-99)",
          "Successful growth and room temperature ambient-pressure magnetic levitation of LK-99",
          "S-wave pairing in a two-orbital t-J model on triangular lattice: possible application to Pb10−xCux(PO4)6O",
          "The 2023 Development of Room-Temperature Ambient-Pressure Superconductor: Vision and Future Trend of Power Systems",
          "Synthesis and characterisation of LK-99",
          "First order transition in Pb10−xCux(PO4)6O (0.9<x<1.1) containing Cu2S",
          "High-temperature superconductivity on Anderson lattice and moreover",
          "Effective model for Pb9Cu(PO4)6O",
          "Observation of abnormal resistance-temperature behavior along with diamagnetic transition in Pb10−xCux(PO4)6O-based composite",
          "Current percolation model for the special resistivity behavior observed in Cu-doped Apatite",
          "High Temperature Superconductivity with Strong Correlations and Disorder: Possible Relevance to Cu-doped Apatite",
          "Entertaining the Possibility of RT Superconductivity in LK-99",
          "Ferromagnetic half levitation of LK-99-like synthetic samples",
          "Different phase leads to different transport behavior in Pb9Cu(PO4)6O compounds",
          "Multiple Slater determinants and strong spin-fluctuations as key ingredients of the electronic structure of electron- and hole-doped Pb10−xCux(PO4)6O",
          "The characteristics of LK-99 by Cu2S removal using ammonia solution: A diamagnetic semiconductor",
          "Pb-apatite framework as a generator of novel flat-band CuO based physics",
          "Magical or magnetic? Less commonly taught facts about real-world permanent magnets and their diverse interactions with objects",
          "Effective tight-binding Hamiltonian for the low-energy electronic structure of the Cu-doped lead apatite and the parent compound",
          "Phases and magnetism at microscale in compounds containing nominal Pb10−xCux(PO4)6O",
          "Synthesis of possible room temperature superconductor LK-99: Pb9Cu(PO4)6O",
          "Models of Oxygen Occupancy in Lead Phosphate Apatite Pb10(PO4)6O",
          "Ferromagnetic and insulating behavior in both half magnetic levitation and non-levitation LK-99 like samples",
          "Flat-band and multi-dimensional fermions in Pb10(PO4)6O4",
          "Superionic Phase Transition of Copper(I) Sulfide and Its Implication for Purported Superconductivity of LK-99",
          "Investigation into the nature behind the interesting half levitation behavior of claimed superconductor LK-99",
          "Deciphering the Enigma of Cu-Doped Lead Apatite (LK-99): Structural Insights, Electronic Properties, and Implications for Ambient-Pressure Superconductivity",
          "The Crystal Structure of Pb10(PO4)6O Revisited: The Evidence of Superstructure",
          "Impersonating a Superconductor: High-Pressure BaCoO3, an Insulating Ferromagnet",
          "Decreasing of Gravitational Mass of the First Room-Temperature\nAmbient-Pressure Superconductor LK-99, when it is subjected to an\nAlternating Magnetic Field of Extremely Low Frequency.",
          "The interplay between exciton- and phonon-induced superconductivity might explain the phenomena observed in LK-99",
          "Single crystal synthesis, structure, and magnetism of Pb10−xCux(PO4)6O ",
          "Absence of Superconductivity in LK-99 at Ambient Conditions",
          "Metallization and spin fluctuations in Cu-doped lead apatite",
          "No superconductivity in Pb\n9\nCu\n1\n(PO\n4\n)\n6\nO found in orbital and spin fluctuation exchange calculations",
          "First-order transition in LK-99 containing Cu2S",
          "Ab initio investigations on the electronic properties and stability of Cu-substituted lead apatite (LK-99) family with different doping concentrations (x = 0, 1, 2)",
          "Solving the LK-99 puzzle",
          "Synthesis, transport and magnetic properties\nof Cu-doped apatite Pb10_x0001_xCux(PO4)6O",
          "Ferromagnetism and insulating behavior with a logarithmic temperature dependence of resistivity in Pb10−xCux(PO4)6O",
          "Phase Stability of Lead Phosphate Apatite Pb10–xCux(PO4)6O, Pb10–xCux(PO4)6(OH)2 (x = 0, 1), and Pb8Cu2(PO4)6",
          "Structural and Electronic Intricacies of Cu-Doped Lead Apatite (LK-99): Implications for Potential Ambient-Pressure Superconductivity",
          "A resistivity anomaly at 380 K in reproduced LK-99",
          "Magnetic-Field Response and Giant Electric-Field Modulation of Cu2S",
          "Defect Chemistry and Doping of Lead Phosphate Oxo Apatite Pb10(PO4)6O",
          "Electromagnetic properties of copper doped lead apatite Pb10−xCux(PO4)6O",
          "On the dynamical stability of copper-doped lead apatite",
          "Some Remarks on Possible Superconductivity of Composition Pb9CuP6O25",
          "The characteristics of Cu-doped lead apatite (LK-99) synthesized with the removal of Cu2S using ammonia solution: A diamagnetic semiconductor ",
          "Emergence of Weyl Points due to Spin Orbit Coupling in LK-99",
          "The 1/4 occupied O atoms induced ultra-flatband and the one-dimensional channels in the Pb10−xCux(PO4)6O4 (x = 0, 0.5) crystal",
          "Replication and study of anomalies in LK-99—the alleged ambient-pressure, room-temperature superconductor",
          "Exploration of superconductivity in LK-99 synthesized under different cooling conditions",
          "Observation of diamagnetic strange-metal phase in sulfur-copper codoped lead apatite"
         ],
         "legendgroup": "",
         "line": {
          "color": "#636efa",
          "dash": "solid"
         },
         "marker": {
          "symbol": "circle"
         },
         "mode": "lines+markers",
         "name": "",
         "orientation": "v",
         "showlegend": false,
         "type": "scatter",
         "x": [
          "2023-04-18T00:00:00",
          "2023-07-22T00:00:00",
          "2023-07-22T00:00:00",
          "2023-07-31T00:00:00",
          "2023-08-02T00:00:00",
          "2023-08-02T00:00:00",
          "2023-08-02T00:00:00",
          "2023-08-03T00:00:00",
          "2023-08-04T00:00:00",
          "2023-08-07T00:00:00",
          "2023-08-07T00:00:00",
          "2023-08-08T00:00:00",
          "2023-08-08T00:00:00",
          "2023-08-08T00:00:00",
          "2023-08-09T00:00:00",
          "2023-08-10T00:00:00",
          "2023-08-11T00:00:00",
          "2023-08-13T00:00:00",
          "2023-08-15T00:00:00",
          "2023-08-15T00:00:00",
          "2023-08-19T00:00:00",
          "2023-08-20T00:00:00",
          "2023-08-21T00:00:00",
          "2023-08-22T00:00:00",
          "2023-08-25T00:00:00",
          "2023-08-25T00:00:00",
          "2023-08-25T00:00:00",
          "2023-08-28T00:00:00",
          "2023-08-30T00:00:00",
          "2023-09-04T00:00:00",
          "2023-09-08T00:00:00",
          "2023-09-09T00:00:00",
          "2023-09-12T00:00:00",
          "2023-09-13T00:00:00",
          "2023-09-20T00:00:00",
          "2023-09-23T00:00:00",
          "2023-10-10T00:00:00",
          "2023-10-24T00:00:00",
          "2023-10-25T00:00:00",
          "2023-11-08T00:00:00",
          "2023-11-21T00:00:00",
          "2023-11-24T00:00:00",
          "2023-12-01T00:00:00",
          "2023-12-06T00:00:00",
          "2023-12-06T00:00:00",
          "2023-12-11T00:00:00",
          "2023-12-18T00:00:00",
          "2023-12-22T00:00:00",
          "2023-12-29T00:00:00",
          "2024-01-02T00:00:00",
          "2024-01-10T00:00:00",
          "2024-01-16T00:00:00",
          "2024-01-20T00:00:00",
          "2024-01-30T00:00:00",
          "2024-02-01T00:00:00",
          "2024-02-06T00:00:00",
          "2024-02-20T00:00:00",
          "2024-02-21T00:00:00",
          "2024-03-14T00:00:00",
          "2024-04-14T00:00:00"
         ],
         "xaxis": "x",
         "y": [
          0.5199388058383725,
          0.5596176923702425,
          0.5987063256829237,
          0.5596176923702425,
          0.5199388058383725,
          0.4800611941616275,
          0.4403823076297575,
          0.4012936743170763,
          0.4403823076297575,
          0.4012936743170763,
          0.4403823076297575,
          0.4800611941616275,
          0.4403823076297575,
          0.4012936743170763,
          0.3631693488243809,
          0.32635522028791997,
          0.29115968678834636,
          0.2578461108058647,
          0.22662735237686826,
          0.2578461108058647,
          0.22662735237686826,
          0.19766254312269238,
          0.17105612630848177,
          0.14685905637589602,
          0.12507193563715036,
          0.12507193563715036,
          0.11506967022170822,
          0.0968004845856103,
          0.08075665923377107,
          0.06680720126885809,
          0.06057075800205902,
          0.07352925960964829,
          0.06057075800205902,
          0.06680720126885809,
          0.06680720126885809,
          0.054799291699557995,
          0.0494714680336481,
          0.040059156863817,
          0.03593031911292577,
          0.03215677479561363,
          0.040059156863817,
          0.03215677479561363,
          0.02871655981600174,
          0.03593031911292577,
          0.02871655981600174,
          0.03593031911292577,
          0.02871655981600174,
          0.02871655981600174,
          0.02275013194817921,
          0.02871655981600174,
          0.02871655981600174,
          0.03215677479561363,
          0.025588059521638562,
          0.02275013194817921,
          0.017864420562816563,
          0.01390344751349859,
          0.010724110021675837,
          0.012224472655044671,
          0.010724110021675837,
          0.008197535924596155
         ],
         "yaxis": "y"
        }
       ],
       "layout": {
        "legend": {
         "tracegroupgap": 0
        },
        "margin": {
         "t": 60
        },
        "template": {
         "data": {
          "bar": [
           {
            "error_x": {
             "color": "#2a3f5f"
            },
            "error_y": {
             "color": "#2a3f5f"
            },
            "marker": {
             "line": {
              "color": "#E5ECF6",
              "width": 0.5
             },
             "pattern": {
              "fillmode": "overlay",
              "size": 10,
              "solidity": 0.2
             }
            },
            "type": "bar"
           }
          ],
          "barpolar": [
           {
            "marker": {
             "line": {
              "color": "#E5ECF6",
              "width": 0.5
             },
             "pattern": {
              "fillmode": "overlay",
              "size": 10,
              "solidity": 0.2
             }
            },
            "type": "barpolar"
           }
          ],
          "carpet": [
           {
            "aaxis": {
             "endlinecolor": "#2a3f5f",
             "gridcolor": "white",
             "linecolor": "white",
             "minorgridcolor": "white",
             "startlinecolor": "#2a3f5f"
            },
            "baxis": {
             "endlinecolor": "#2a3f5f",
             "gridcolor": "white",
             "linecolor": "white",
             "minorgridcolor": "white",
             "startlinecolor": "#2a3f5f"
            },
            "type": "carpet"
           }
          ],
          "choropleth": [
           {
            "colorbar": {
             "outlinewidth": 0,
             "ticks": ""
            },
            "type": "choropleth"
           }
          ],
          "contour": [
           {
            "colorbar": {
             "outlinewidth": 0,
             "ticks": ""
            },
            "colorscale": [
             [
              0,
              "#0d0887"
             ],
             [
              0.1111111111111111,
              "#46039f"
             ],
             [
              0.2222222222222222,
              "#7201a8"
             ],
             [
              0.3333333333333333,
              "#9c179e"
             ],
             [
              0.4444444444444444,
              "#bd3786"
             ],
             [
              0.5555555555555556,
              "#d8576b"
             ],
             [
              0.6666666666666666,
              "#ed7953"
             ],
             [
              0.7777777777777778,
              "#fb9f3a"
             ],
             [
              0.8888888888888888,
              "#fdca26"
             ],
             [
              1,
              "#f0f921"
             ]
            ],
            "type": "contour"
           }
          ],
          "contourcarpet": [
           {
            "colorbar": {
             "outlinewidth": 0,
             "ticks": ""
            },
            "type": "contourcarpet"
           }
          ],
          "heatmap": [
           {
            "colorbar": {
             "outlinewidth": 0,
             "ticks": ""
            },
            "colorscale": [
             [
              0,
              "#0d0887"
             ],
             [
              0.1111111111111111,
              "#46039f"
             ],
             [
              0.2222222222222222,
              "#7201a8"
             ],
             [
              0.3333333333333333,
              "#9c179e"
             ],
             [
              0.4444444444444444,
              "#bd3786"
             ],
             [
              0.5555555555555556,
              "#d8576b"
             ],
             [
              0.6666666666666666,
              "#ed7953"
             ],
             [
              0.7777777777777778,
              "#fb9f3a"
             ],
             [
              0.8888888888888888,
              "#fdca26"
             ],
             [
              1,
              "#f0f921"
             ]
            ],
            "type": "heatmap"
           }
          ],
          "heatmapgl": [
           {
            "colorbar": {
             "outlinewidth": 0,
             "ticks": ""
            },
            "colorscale": [
             [
              0,
              "#0d0887"
             ],
             [
              0.1111111111111111,
              "#46039f"
             ],
             [
              0.2222222222222222,
              "#7201a8"
             ],
             [
              0.3333333333333333,
              "#9c179e"
             ],
             [
              0.4444444444444444,
              "#bd3786"
             ],
             [
              0.5555555555555556,
              "#d8576b"
             ],
             [
              0.6666666666666666,
              "#ed7953"
             ],
             [
              0.7777777777777778,
              "#fb9f3a"
             ],
             [
              0.8888888888888888,
              "#fdca26"
             ],
             [
              1,
              "#f0f921"
             ]
            ],
            "type": "heatmapgl"
           }
          ],
          "histogram": [
           {
            "marker": {
             "pattern": {
              "fillmode": "overlay",
              "size": 10,
              "solidity": 0.2
             }
            },
            "type": "histogram"
           }
          ],
          "histogram2d": [
           {
            "colorbar": {
             "outlinewidth": 0,
             "ticks": ""
            },
            "colorscale": [
             [
              0,
              "#0d0887"
             ],
             [
              0.1111111111111111,
              "#46039f"
             ],
             [
              0.2222222222222222,
              "#7201a8"
             ],
             [
              0.3333333333333333,
              "#9c179e"
             ],
             [
              0.4444444444444444,
              "#bd3786"
             ],
             [
              0.5555555555555556,
              "#d8576b"
             ],
             [
              0.6666666666666666,
              "#ed7953"
             ],
             [
              0.7777777777777778,
              "#fb9f3a"
             ],
             [
              0.8888888888888888,
              "#fdca26"
             ],
             [
              1,
              "#f0f921"
             ]
            ],
            "type": "histogram2d"
           }
          ],
          "histogram2dcontour": [
           {
            "colorbar": {
             "outlinewidth": 0,
             "ticks": ""
            },
            "colorscale": [
             [
              0,
              "#0d0887"
             ],
             [
              0.1111111111111111,
              "#46039f"
             ],
             [
              0.2222222222222222,
              "#7201a8"
             ],
             [
              0.3333333333333333,
              "#9c179e"
             ],
             [
              0.4444444444444444,
              "#bd3786"
             ],
             [
              0.5555555555555556,
              "#d8576b"
             ],
             [
              0.6666666666666666,
              "#ed7953"
             ],
             [
              0.7777777777777778,
              "#fb9f3a"
             ],
             [
              0.8888888888888888,
              "#fdca26"
             ],
             [
              1,
              "#f0f921"
             ]
            ],
            "type": "histogram2dcontour"
           }
          ],
          "mesh3d": [
           {
            "colorbar": {
             "outlinewidth": 0,
             "ticks": ""
            },
            "type": "mesh3d"
           }
          ],
          "parcoords": [
           {
            "line": {
             "colorbar": {
              "outlinewidth": 0,
              "ticks": ""
             }
            },
            "type": "parcoords"
           }
          ],
          "pie": [
           {
            "automargin": true,
            "type": "pie"
           }
          ],
          "scatter": [
           {
            "marker": {
             "colorbar": {
              "outlinewidth": 0,
              "ticks": ""
             }
            },
            "type": "scatter"
           }
          ],
          "scatter3d": [
           {
            "line": {
             "colorbar": {
              "outlinewidth": 0,
              "ticks": ""
             }
            },
            "marker": {
             "colorbar": {
              "outlinewidth": 0,
              "ticks": ""
             }
            },
            "type": "scatter3d"
           }
          ],
          "scattercarpet": [
           {
            "marker": {
             "colorbar": {
              "outlinewidth": 0,
              "ticks": ""
             }
            },
            "type": "scattercarpet"
           }
          ],
          "scattergeo": [
           {
            "marker": {
             "colorbar": {
              "outlinewidth": 0,
              "ticks": ""
             }
            },
            "type": "scattergeo"
           }
          ],
          "scattergl": [
           {
            "marker": {
             "colorbar": {
              "outlinewidth": 0,
              "ticks": ""
             }
            },
            "type": "scattergl"
           }
          ],
          "scattermapbox": [
           {
            "marker": {
             "colorbar": {
              "outlinewidth": 0,
              "ticks": ""
             }
            },
            "type": "scattermapbox"
           }
          ],
          "scatterpolar": [
           {
            "marker": {
             "colorbar": {
              "outlinewidth": 0,
              "ticks": ""
             }
            },
            "type": "scatterpolar"
           }
          ],
          "scatterpolargl": [
           {
            "marker": {
             "colorbar": {
              "outlinewidth": 0,
              "ticks": ""
             }
            },
            "type": "scatterpolargl"
           }
          ],
          "scatterternary": [
           {
            "marker": {
             "colorbar": {
              "outlinewidth": 0,
              "ticks": ""
             }
            },
            "type": "scatterternary"
           }
          ],
          "surface": [
           {
            "colorbar": {
             "outlinewidth": 0,
             "ticks": ""
            },
            "colorscale": [
             [
              0,
              "#0d0887"
             ],
             [
              0.1111111111111111,
              "#46039f"
             ],
             [
              0.2222222222222222,
              "#7201a8"
             ],
             [
              0.3333333333333333,
              "#9c179e"
             ],
             [
              0.4444444444444444,
              "#bd3786"
             ],
             [
              0.5555555555555556,
              "#d8576b"
             ],
             [
              0.6666666666666666,
              "#ed7953"
             ],
             [
              0.7777777777777778,
              "#fb9f3a"
             ],
             [
              0.8888888888888888,
              "#fdca26"
             ],
             [
              1,
              "#f0f921"
             ]
            ],
            "type": "surface"
           }
          ],
          "table": [
           {
            "cells": {
             "fill": {
              "color": "#EBF0F8"
             },
             "line": {
              "color": "white"
             }
            },
            "header": {
             "fill": {
              "color": "#C8D4E3"
             },
             "line": {
              "color": "white"
             }
            },
            "type": "table"
           }
          ]
         },
         "layout": {
          "annotationdefaults": {
           "arrowcolor": "#2a3f5f",
           "arrowhead": 0,
           "arrowwidth": 1
          },
          "autotypenumbers": "strict",
          "coloraxis": {
           "colorbar": {
            "outlinewidth": 0,
            "ticks": ""
           }
          },
          "colorscale": {
           "diverging": [
            [
             0,
             "#8e0152"
            ],
            [
             0.1,
             "#c51b7d"
            ],
            [
             0.2,
             "#de77ae"
            ],
            [
             0.3,
             "#f1b6da"
            ],
            [
             0.4,
             "#fde0ef"
            ],
            [
             0.5,
             "#f7f7f7"
            ],
            [
             0.6,
             "#e6f5d0"
            ],
            [
             0.7,
             "#b8e186"
            ],
            [
             0.8,
             "#7fbc41"
            ],
            [
             0.9,
             "#4d9221"
            ],
            [
             1,
             "#276419"
            ]
           ],
           "sequential": [
            [
             0,
             "#0d0887"
            ],
            [
             0.1111111111111111,
             "#46039f"
            ],
            [
             0.2222222222222222,
             "#7201a8"
            ],
            [
             0.3333333333333333,
             "#9c179e"
            ],
            [
             0.4444444444444444,
             "#bd3786"
            ],
            [
             0.5555555555555556,
             "#d8576b"
            ],
            [
             0.6666666666666666,
             "#ed7953"
            ],
            [
             0.7777777777777778,
             "#fb9f3a"
            ],
            [
             0.8888888888888888,
             "#fdca26"
            ],
            [
             1,
             "#f0f921"
            ]
           ],
           "sequentialminus": [
            [
             0,
             "#0d0887"
            ],
            [
             0.1111111111111111,
             "#46039f"
            ],
            [
             0.2222222222222222,
             "#7201a8"
            ],
            [
             0.3333333333333333,
             "#9c179e"
            ],
            [
             0.4444444444444444,
             "#bd3786"
            ],
            [
             0.5555555555555556,
             "#d8576b"
            ],
            [
             0.6666666666666666,
             "#ed7953"
            ],
            [
             0.7777777777777778,
             "#fb9f3a"
            ],
            [
             0.8888888888888888,
             "#fdca26"
            ],
            [
             1,
             "#f0f921"
            ]
           ]
          },
          "colorway": [
           "#636efa",
           "#EF553B",
           "#00cc96",
           "#ab63fa",
           "#FFA15A",
           "#19d3f3",
           "#FF6692",
           "#B6E880",
           "#FF97FF",
           "#FECB52"
          ],
          "font": {
           "color": "#2a3f5f"
          },
          "geo": {
           "bgcolor": "white",
           "lakecolor": "white",
           "landcolor": "#E5ECF6",
           "showlakes": true,
           "showland": true,
           "subunitcolor": "white"
          },
          "hoverlabel": {
           "align": "left"
          },
          "hovermode": "closest",
          "mapbox": {
           "style": "light"
          },
          "paper_bgcolor": "white",
          "plot_bgcolor": "#E5ECF6",
          "polar": {
           "angularaxis": {
            "gridcolor": "white",
            "linecolor": "white",
            "ticks": ""
           },
           "bgcolor": "#E5ECF6",
           "radialaxis": {
            "gridcolor": "white",
            "linecolor": "white",
            "ticks": ""
           }
          },
          "scene": {
           "xaxis": {
            "backgroundcolor": "#E5ECF6",
            "gridcolor": "white",
            "gridwidth": 2,
            "linecolor": "white",
            "showbackground": true,
            "ticks": "",
            "zerolinecolor": "white"
           },
           "yaxis": {
            "backgroundcolor": "#E5ECF6",
            "gridcolor": "white",
            "gridwidth": 2,
            "linecolor": "white",
            "showbackground": true,
            "ticks": "",
            "zerolinecolor": "white"
           },
           "zaxis": {
            "backgroundcolor": "#E5ECF6",
            "gridcolor": "white",
            "gridwidth": 2,
            "linecolor": "white",
            "showbackground": true,
            "ticks": "",
            "zerolinecolor": "white"
           }
          },
          "shapedefaults": {
           "line": {
            "color": "#2a3f5f"
           }
          },
          "ternary": {
           "aaxis": {
            "gridcolor": "white",
            "linecolor": "white",
            "ticks": ""
           },
           "baxis": {
            "gridcolor": "white",
            "linecolor": "white",
            "ticks": ""
           },
           "bgcolor": "#E5ECF6",
           "caxis": {
            "gridcolor": "white",
            "linecolor": "white",
            "ticks": ""
           }
          },
          "title": {
           "x": 0.05
          },
          "xaxis": {
           "automargin": true,
           "gridcolor": "white",
           "linecolor": "white",
           "ticks": "",
           "title": {
            "standoff": 15
           },
           "zerolinecolor": "white",
           "zerolinewidth": 2
          },
          "yaxis": {
           "automargin": true,
           "gridcolor": "white",
           "linecolor": "white",
           "ticks": "",
           "title": {
            "standoff": 15
           },
           "zerolinecolor": "white",
           "zerolinewidth": 2
          }
         }
        },
        "title": {
         "font": {
          "size": 30
         },
         "text": "Is LK-99 a Room-Temperature Superconductor?"
        },
        "xaxis": {
         "anchor": "y",
         "domain": [
          0,
          1
         ],
         "title": {
          "text": "date"
         }
        },
        "yaxis": {
         "anchor": "x",
         "domain": [
          0,
          1
         ],
         "title": {
          "text": "likelihood"
         }
        }
       }
      }
     },
     "metadata": {},
     "output_type": "display_data"
    }
   ],
   "source": [
    "import numpy as np\n",
    "import plotly.graph_objects as go\n",
    "from scipy.stats import norm\n",
    "means_list = [0]\n",
    "means_list = [0]\n",
    "variances_list = [100]\n",
    "cdf_list = [0.5]\n",
    "\n",
    "for i, row in df.iterrows():\n",
    "    #Add means\n",
    "    if row['lk99_veracity']=='yes':\n",
    "        mean=1\n",
    "    elif row['lk99_veracity']=='neutral':\n",
    "        mean=0\n",
    "    elif row['lk99_veracity']=='no':\n",
    "        mean=-1\n",
    "    #Add stdevs\n",
    "    if type(row['journal_if']) is not float:\n",
    "        variance=100\n",
    "    else:\n",
    "        if float(row['journal_if'])<1:#Not a trusted journal\n",
    "            variance=80\n",
    "        if float(row['journal_if'])<5:#Semi-trusted journal\n",
    "            variance=20\n",
    "        else:#Well-respected journal\n",
    "            variance=10\n",
    "    new_variance = 1./(1./variances_list[-1] + 1./variance)\n",
    "    new_mean = new_variance * (means_list[-1]/variances_list[-1] + mean/variance)\n",
    "    #print(row['lk99_veracity'],row['journal_if'],new_mean,new_variance)\n",
    "    means_list.append(new_mean)\n",
    "    variances_list.append(new_variance)\n",
    "    cdf_list.append(1.0-norm.cdf(0,new_mean,new_variance))\n",
    "\n",
    "df['means']=means_list[1:]\n",
    "df['iter_variances']=variances_list[1:]\n",
    "df['likelihood']=cdf_list[1:]\n",
    "\n",
    "#all_dates = [df['date'][0]]+df['date'].tolist()\n",
    "#plt.plot(all_dates,means_list)\n",
    "\n",
    "#fig = go.Figure(data=[go.Scatter(x=all_dates,y=means_list,mode='lines+markers')])\n",
    "#fig.show()\n",
    "import plotly.express as px\n",
    "fig = px.line(df,x='date',y='likelihood',hover_name='paper_title',hover_data=['doi','lk99_veracity','journal','journal_if','citations'],markers=True)\n",
    "#fig.add_scatter(x=betting_df['date'],y=betting_df['probability'])\n",
    "fig.update_layout(title={'text':'Is LK-99 a Room-Temperature Superconductor?','font':{'size':30}})\n",
    "fig.show()"
   ]
  },
  {
   "cell_type": "code",
   "execution_count": 38,
   "metadata": {},
   "outputs": [
    {
     "name": "stderr",
     "output_type": "stream",
     "text": [
      "/home/meschw04/.local/lib/python3.10/site-packages/_plotly_utils/basevalidators.py:107: FutureWarning:\n",
      "\n",
      "The behavior of DatetimeProperties.to_pydatetime is deprecated, in a future version this will return a Series containing python datetime objects instead of an ndarray. To retain the old behavior, call `np.array` on the result\n",
      "\n"
     ]
    },
    {
     "data": {
      "application/vnd.plotly.v1+json": {
       "config": {
        "plotlyServerURL": "https://plot.ly"
       },
       "data": [
        {
         "customdata": [
          [
           "10.6111/JKCGCT.2023.33.2.061",
           "yes",
           "Journal of the Korea Crystal Growth and Crystal Technology",
           0.3,
           25
          ],
          [
           "10.48550/arXiv.2307.12008",
           "yes",
           "arxiv",
           null,
           64
          ],
          [
           "10.48550/arXiv.2307.12037",
           "yes",
           "arxiv",
           null,
           56
          ],
          [
           "10.48550/arXiv.2307.16892",
           "no",
           "arxiv",
           null,
           42
          ],
          [
           "10.48550/arXiv.2308.01135",
           "no",
           "arxiv",
           null,
           23
          ],
          [
           "10.1016/j.matt.2023.11.014",
           "no",
           "arxiv",
           null,
           0
          ],
          [
           "10.48550/arXiv.2308.01135",
           "no",
           "arxiv",
           null,
           23
          ],
          [
           "10.48550/arXiv.2308.01516",
           "no",
           "arxiv",
           null,
           23
          ],
          [
           "10.48550/arXiv.2308.02469",
           "yes",
           "arxiv",
           null,
           13
          ],
          [
           "10.48550/arXiv.2308.04461",
           "no",
           "arxiv",
           null,
           0
          ],
          [
           "10.48550/arXiv.2308.03823",
           "yes",
           "arxiv",
           null,
           12
          ],
          [
           "10.1016/j.matt.2023.11.001",
           "yes",
           "arxiv",
           null,
           13
          ],
          [
           "10.21203/rs.3.rs-3208998/v1",
           "no",
           "Research Square",
           null,
           0
          ],
          [
           "10.48550/arXiv.2308.04480",
           "no",
           "arxiv",
           null,
           1
          ],
          [
           "10.48550/arXiv.2308.05001",
           "no",
           "arxiv",
           null,
           17
          ],
          [
           "10.1016/j.matt.2023.11.014",
           "no",
           "arxiv",
           null,
           8
          ],
          [
           "10.48550/arXiv.2308.03948",
           "no",
           "arxiv",
           null,
           0
          ],
          [
           "10.48550/arXiv.2308.06684",
           "no",
           "arxiv",
           null,
           5
          ],
          [
           "10.1007/s11433-023-2201-9",
           "no",
           "Science China Physics, Mechanics and Astronomy",
           5.2,
           36
          ],
          [
           "10.48550/arXiv.2308.08454",
           "yes",
           "arxiv",
           null,
           7
          ],
          [
           "10.48550/arXiv.2308.09900",
           "no",
           "arxiv",
           null,
           1
          ],
          [
           "10.48550/arXiv.2309.17445",
           "no",
           "arxiv",
           null,
           1
          ],
          [
           "10.48550/arXiv.2308.00698",
           "no",
           "arxiv",
           null,
           27
          ],
          [
           "10.48550/arXiv.2308.11542",
           "no",
           "arxiv",
           null,
           0
          ],
          [
           "10.48550/arXiv.2308.13275",
           "no",
           "arxiv",
           null,
           0
          ],
          [
           "10.1103/PhysRevMaterials.7.084804",
           "neutral",
           "Physical Review Materials",
           3.4,
           16
          ],
          [
           "10.1088/1361-6668/acf002",
           "no",
           "Superconductor Science and Technology",
           3.5,
           34
          ],
          [
           "10.1021/acsenergylett.3c01651",
           "no",
           "ACS Energy Letters",
           22,
           7
          ],
          [
           "10.1007/s44214-023-00035-z",
           "no",
           "Quantum Frontiers",
           7.5,
           12
          ],
          [
           "10.48550/arXiv.2309.01755",
           "no",
           "arxiv",
           null,
           0
          ],
          [
           "10.1021/acs.jpcc.3c05684",
           "no",
           "Journal of Physical Chemistry C",
           3.7,
           27
          ],
          [
           "10.48550/arXiv.2310.08594",
           "yes",
           "arxiv",
           null,
           0
          ],
          [
           "10.48550/arXiv.2309.07928",
           "no",
           "arxiv",
           null,
           0
          ],
          [
           "10.3390/cryst13091371",
           "yes",
           "MDPI Crystals",
           2.7,
           8
          ],
          [
           "10.1021/jacs.3c08726",
           "neutral",
           "Journal of the American Chemical Society",
           15,
           0
          ],
          [
           null,
           "no",
           "HAL Open Science",
           null,
           1
          ],
          [
           "10.1016/j.mtcomm.2023.107293",
           "no",
           "Materials Today Communications",
           3.8,
           1
          ],
          [
           "10.1063/5.0172755",
           "no",
           "APL Materials",
           6.1,
           28
          ],
          [
           "10.1021/acsomega.3c06096",
           "no",
           "ACS Omega",
           4.1,
           24
          ],
          [
           "10.1103/PhysRevMaterials.7.114804",
           "no",
           "Physical Review Materials",
           3.4,
           6
          ],
          [
           "10.21468/SciPostPhys.15.5.197",
           "yes",
           "SciPost Physics",
           5.5,
           7
          ],
          [
           "10.1016/j.matt.2023.11.001",
           "no",
           "Matter",
           18.9,
           29
          ],
          [
           "10.1016/j.mtcomm.2023.107379",
           "no",
           "Materials Today Communications",
           3.8,
           7
          ],
          [
           "10.1016/j.matt.2023.11.010",
           "yes",
           "Cell Matter",
           5.3,
           1
          ],
          [
           "10.1016/j.matt.2023.11.014",
           "no",
           "Cell Matter",
           5.3,
           1
          ],
          [
           "10.1007/s11433-023-2209-7",
           "yes",
           "Science China Physics, Mechanics and Astronomy",
           5.2,
           7
          ],
          [
           "10.1021/acs.chemmater.3c02054",
           "no",
           "Chemistry of Materials",
           8.6,
           6
          ],
          [
           "10.1021/acs.jpcc.3c06709",
           "neutral",
           "Journal of the American Chemical Society",
           15,
           1
          ],
          [
           "10.9714/psac.2023.25.4.010",
           "no",
           "Progress in Superconductivity and Cryogenics",
           null,
           0
          ],
          [
           "10.1021/acs.nanolett.3c03457",
           "yes",
           "Nano Letters",
           10.8,
           1
          ],
          [
           "10.1021/acsenergylett.3c02544",
           "neutral",
           "ACS Energy Letters",
           22,
           2
          ],
          [
           "10.1007/s10853-023-09261-1",
           "yes",
           "Journal of Materials Science",
           4.5,
           1
          ],
          [
           "10.1038/s41524-024-01206-9",
           "no",
           "NPJ Computational Materials",
           9.7,
           1
          ],
          [
           "10.3103/S1060992X23070020",
           "no",
           "Optical Memory and Neural Networks",
           0.9,
           4
          ],
          [
           "10.1063/5.0183271",
           "no",
           "APL Materials",
           6.1,
           1
          ],
          [
           "10.48550/arXiv.2402.18588",
           "no",
           "arxiv",
           null,
           0
          ],
          [
           "10.1063/5.0188943",
           "no",
           "APL Materials",
           6.1,
           3
          ],
          [
           "10.1088/1361-6668/ad2b78",
           "yes",
           "Superconductor Science and Technology",
           3.5,
           5
          ],
          [
           "10.1016/j.cap.2024.03.007",
           "no",
           "Current Applied Physics",
           2.4,
           1
          ],
          [
           "10.48550/arXiv.2403.11126",
           "no",
           "arxiv",
           null,
           0
          ]
         ],
         "hovertemplate": "<b>%{hovertext}</b><br><br>date=%{x}<br>likelihood_adjusted=%{y}<br>doi=%{customdata[0]}<br>lk99_veracity=%{customdata[1]}<br>journal=%{customdata[2]}<br>journal_if=%{customdata[3]}<br>citations=%{customdata[4]}<extra></extra>",
         "hovertext": [
          "Consideration for the development of room-temperature ambient-pressure superconductor (LK-99)",
          "The First Room-Temperature Ambient-Pressure Superconductor",
          "Superconductor Pb10−xCux(PO4)6O showing levitation at room temperature and atmospheric pressure and mechanism",
          "Origin of correlated isolated flat bands in copper-substituted lead phosphate apatite",
          "Electronic Structure and Vibrational Stability of Copper-substituted Lead Apatite (LK-99)",
          "Observation of zero resistance above 100∘ K in Pb10−xCux(PO4)6O",
          "Electronic Structure and Vibrational Stability of Copper-substituted Lead Apatite (LK-99)",
          "Successful growth and room temperature ambient-pressure magnetic levitation of LK-99",
          "S-wave pairing in a two-orbital t-J model on triangular lattice: possible application to Pb10−xCux(PO4)6O",
          "The 2023 Development of Room-Temperature Ambient-Pressure Superconductor: Vision and Future Trend of Power Systems",
          "Synthesis and characterisation of LK-99",
          "First order transition in Pb10−xCux(PO4)6O (0.9<x<1.1) containing Cu2S",
          "High-temperature superconductivity on Anderson lattice and moreover",
          "Effective model for Pb9Cu(PO4)6O",
          "Observation of abnormal resistance-temperature behavior along with diamagnetic transition in Pb10−xCux(PO4)6O-based composite",
          "Current percolation model for the special resistivity behavior observed in Cu-doped Apatite",
          "High Temperature Superconductivity with Strong Correlations and Disorder: Possible Relevance to Cu-doped Apatite",
          "Entertaining the Possibility of RT Superconductivity in LK-99",
          "Ferromagnetic half levitation of LK-99-like synthetic samples",
          "Different phase leads to different transport behavior in Pb9Cu(PO4)6O compounds",
          "Multiple Slater determinants and strong spin-fluctuations as key ingredients of the electronic structure of electron- and hole-doped Pb10−xCux(PO4)6O",
          "The characteristics of LK-99 by Cu2S removal using ammonia solution: A diamagnetic semiconductor",
          "Pb-apatite framework as a generator of novel flat-band CuO based physics",
          "Magical or magnetic? Less commonly taught facts about real-world permanent magnets and their diverse interactions with objects",
          "Effective tight-binding Hamiltonian for the low-energy electronic structure of the Cu-doped lead apatite and the parent compound",
          "Phases and magnetism at microscale in compounds containing nominal Pb10−xCux(PO4)6O",
          "Synthesis of possible room temperature superconductor LK-99: Pb9Cu(PO4)6O",
          "Models of Oxygen Occupancy in Lead Phosphate Apatite Pb10(PO4)6O",
          "Ferromagnetic and insulating behavior in both half magnetic levitation and non-levitation LK-99 like samples",
          "Flat-band and multi-dimensional fermions in Pb10(PO4)6O4",
          "Superionic Phase Transition of Copper(I) Sulfide and Its Implication for Purported Superconductivity of LK-99",
          "Investigation into the nature behind the interesting half levitation behavior of claimed superconductor LK-99",
          "Deciphering the Enigma of Cu-Doped Lead Apatite (LK-99): Structural Insights, Electronic Properties, and Implications for Ambient-Pressure Superconductivity",
          "The Crystal Structure of Pb10(PO4)6O Revisited: The Evidence of Superstructure",
          "Impersonating a Superconductor: High-Pressure BaCoO3, an Insulating Ferromagnet",
          "Decreasing of Gravitational Mass of the First Room-Temperature\nAmbient-Pressure Superconductor LK-99, when it is subjected to an\nAlternating Magnetic Field of Extremely Low Frequency.",
          "The interplay between exciton- and phonon-induced superconductivity might explain the phenomena observed in LK-99",
          "Single crystal synthesis, structure, and magnetism of Pb10−xCux(PO4)6O ",
          "Absence of Superconductivity in LK-99 at Ambient Conditions",
          "Metallization and spin fluctuations in Cu-doped lead apatite",
          "No superconductivity in Pb\n9\nCu\n1\n(PO\n4\n)\n6\nO found in orbital and spin fluctuation exchange calculations",
          "First-order transition in LK-99 containing Cu2S",
          "Ab initio investigations on the electronic properties and stability of Cu-substituted lead apatite (LK-99) family with different doping concentrations (x = 0, 1, 2)",
          "Solving the LK-99 puzzle",
          "Synthesis, transport and magnetic properties\nof Cu-doped apatite Pb10_x0001_xCux(PO4)6O",
          "Ferromagnetism and insulating behavior with a logarithmic temperature dependence of resistivity in Pb10−xCux(PO4)6O",
          "Phase Stability of Lead Phosphate Apatite Pb10–xCux(PO4)6O, Pb10–xCux(PO4)6(OH)2 (x = 0, 1), and Pb8Cu2(PO4)6",
          "Structural and Electronic Intricacies of Cu-Doped Lead Apatite (LK-99): Implications for Potential Ambient-Pressure Superconductivity",
          "A resistivity anomaly at 380 K in reproduced LK-99",
          "Magnetic-Field Response and Giant Electric-Field Modulation of Cu2S",
          "Defect Chemistry and Doping of Lead Phosphate Oxo Apatite Pb10(PO4)6O",
          "Electromagnetic properties of copper doped lead apatite Pb10−xCux(PO4)6O",
          "On the dynamical stability of copper-doped lead apatite",
          "Some Remarks on Possible Superconductivity of Composition Pb9CuP6O25",
          "The characteristics of Cu-doped lead apatite (LK-99) synthesized with the removal of Cu2S using ammonia solution: A diamagnetic semiconductor ",
          "Emergence of Weyl Points due to Spin Orbit Coupling in LK-99",
          "The 1/4 occupied O atoms induced ultra-flatband and the one-dimensional channels in the Pb10−xCux(PO4)6O4 (x = 0, 0.5) crystal",
          "Replication and study of anomalies in LK-99—the alleged ambient-pressure, room-temperature superconductor",
          "Exploration of superconductivity in LK-99 synthesized under different cooling conditions",
          "Observation of diamagnetic strange-metal phase in sulfur-copper codoped lead apatite"
         ],
         "legendgroup": "",
         "line": {
          "color": "#636efa",
          "dash": "solid"
         },
         "marker": {
          "symbol": "circle"
         },
         "mode": "lines+markers",
         "name": "",
         "orientation": "v",
         "showlegend": false,
         "type": "scatter",
         "x": [
          "2023-04-18T00:00:00",
          "2023-07-22T00:00:00",
          "2023-07-22T00:00:00",
          "2023-07-31T00:00:00",
          "2023-08-02T00:00:00",
          "2023-08-02T00:00:00",
          "2023-08-02T00:00:00",
          "2023-08-03T00:00:00",
          "2023-08-04T00:00:00",
          "2023-08-07T00:00:00",
          "2023-08-07T00:00:00",
          "2023-08-08T00:00:00",
          "2023-08-08T00:00:00",
          "2023-08-08T00:00:00",
          "2023-08-09T00:00:00",
          "2023-08-10T00:00:00",
          "2023-08-11T00:00:00",
          "2023-08-13T00:00:00",
          "2023-08-15T00:00:00",
          "2023-08-15T00:00:00",
          "2023-08-19T00:00:00",
          "2023-08-20T00:00:00",
          "2023-08-21T00:00:00",
          "2023-08-22T00:00:00",
          "2023-08-25T00:00:00",
          "2023-08-25T00:00:00",
          "2023-08-25T00:00:00",
          "2023-08-28T00:00:00",
          "2023-08-30T00:00:00",
          "2023-09-04T00:00:00",
          "2023-09-08T00:00:00",
          "2023-09-09T00:00:00",
          "2023-09-12T00:00:00",
          "2023-09-13T00:00:00",
          "2023-09-20T00:00:00",
          "2023-09-23T00:00:00",
          "2023-10-10T00:00:00",
          "2023-10-24T00:00:00",
          "2023-10-25T00:00:00",
          "2023-11-08T00:00:00",
          "2023-11-21T00:00:00",
          "2023-11-24T00:00:00",
          "2023-12-01T00:00:00",
          "2023-12-06T00:00:00",
          "2023-12-06T00:00:00",
          "2023-12-11T00:00:00",
          "2023-12-18T00:00:00",
          "2023-12-22T00:00:00",
          "2023-12-29T00:00:00",
          "2024-01-02T00:00:00",
          "2024-01-10T00:00:00",
          "2024-01-16T00:00:00",
          "2024-01-20T00:00:00",
          "2024-01-30T00:00:00",
          "2024-02-01T00:00:00",
          "2024-02-06T00:00:00",
          "2024-02-20T00:00:00",
          "2024-02-21T00:00:00",
          "2024-03-14T00:00:00",
          "2024-04-14T00:00:00"
         ],
         "xaxis": "x",
         "y": [
          0.19766254312269238,
          0.22662735237686826,
          0.2578461108058647,
          0.22662735237686826,
          0.19766254312269238,
          0.17105612630848177,
          0.14685905637589602,
          0.12507193563715036,
          0.14685905637589602,
          0.12507193563715036,
          0.14685905637589602,
          0.17105612630848177,
          0.14685905637589602,
          0.12507193563715036,
          0.10564977366685535,
          0.08850799143740196,
          0.07352925960964829,
          0.06057075800205902,
          0.0494714680336481,
          0.06057075800205902,
          0.0494714680336481,
          0.040059156863817,
          0.03215677479561363,
          0.025588059521638562,
          0.020182215405704307,
          0.020182215405704307,
          0.017864420562816563,
          0.01390344751349859,
          0.010724110021675726,
          0.008197535924596155,
          0.007142810735271454,
          0.009386705534838558,
          0.007142810735271454,
          0.008197535924596155,
          0.008197535924596155,
          0.006209665325776159,
          0.005386145954066723,
          0.004024588542758334,
          0.0034669738030406183,
          0.0029797632350545555,
          0.004024588542758334,
          0.0029797632350545555,
          0.0025551303304279793,
          0.0034669738030406183,
          0.0025551303304279793,
          0.0034669738030406183,
          0.0025551303304279793,
          0.0025551303304279793,
          0.001865813300384045,
          0.0025551303304279793,
          0.0025551303304279793,
          0.0029797632350545555,
          0.0021859614549132322,
          0.001865813300384045,
          0.0013498980316301035,
          0.0009676032132183154,
          0.0006871379379158604,
          0.0008163523128285055,
          0.0006871379379158604,
          0.0004834241423837815
         ],
         "yaxis": "y"
        },
        {
         "type": "scatter",
         "x": [
          "2023-07-26",
          "2023-07-27",
          "2023-07-28",
          "2023-07-29",
          "2023-07-30",
          "2023-07-31",
          "2023-08-01",
          "2023-08-02",
          "2023-08-03",
          "2023-08-04",
          "2023-08-05",
          "2023-08-06",
          "2023-08-07",
          "2023-08-08",
          "2023-08-09",
          "2023-08-10",
          "2023-08-11",
          "2023-08-12",
          "2023-08-13",
          "2023-08-14",
          "2023-08-15",
          "2023-08-16",
          "2023-08-31",
          "2023-09-30",
          "2023-10-31"
         ],
         "y": [
          0.25,
          0.2,
          0.2,
          0.18,
          0.15,
          0.3,
          0.6,
          0.39,
          0.34,
          0.37,
          0.35,
          0.4,
          0.37,
          0.17,
          0.16,
          0.16,
          0.13,
          0.13,
          0.12,
          0.12,
          0.11,
          0.1,
          0.08,
          0.06,
          0.04
         ]
        }
       ],
       "layout": {
        "legend": {
         "tracegroupgap": 0
        },
        "margin": {
         "t": 60
        },
        "template": {
         "data": {
          "bar": [
           {
            "error_x": {
             "color": "#2a3f5f"
            },
            "error_y": {
             "color": "#2a3f5f"
            },
            "marker": {
             "line": {
              "color": "#E5ECF6",
              "width": 0.5
             },
             "pattern": {
              "fillmode": "overlay",
              "size": 10,
              "solidity": 0.2
             }
            },
            "type": "bar"
           }
          ],
          "barpolar": [
           {
            "marker": {
             "line": {
              "color": "#E5ECF6",
              "width": 0.5
             },
             "pattern": {
              "fillmode": "overlay",
              "size": 10,
              "solidity": 0.2
             }
            },
            "type": "barpolar"
           }
          ],
          "carpet": [
           {
            "aaxis": {
             "endlinecolor": "#2a3f5f",
             "gridcolor": "white",
             "linecolor": "white",
             "minorgridcolor": "white",
             "startlinecolor": "#2a3f5f"
            },
            "baxis": {
             "endlinecolor": "#2a3f5f",
             "gridcolor": "white",
             "linecolor": "white",
             "minorgridcolor": "white",
             "startlinecolor": "#2a3f5f"
            },
            "type": "carpet"
           }
          ],
          "choropleth": [
           {
            "colorbar": {
             "outlinewidth": 0,
             "ticks": ""
            },
            "type": "choropleth"
           }
          ],
          "contour": [
           {
            "colorbar": {
             "outlinewidth": 0,
             "ticks": ""
            },
            "colorscale": [
             [
              0,
              "#0d0887"
             ],
             [
              0.1111111111111111,
              "#46039f"
             ],
             [
              0.2222222222222222,
              "#7201a8"
             ],
             [
              0.3333333333333333,
              "#9c179e"
             ],
             [
              0.4444444444444444,
              "#bd3786"
             ],
             [
              0.5555555555555556,
              "#d8576b"
             ],
             [
              0.6666666666666666,
              "#ed7953"
             ],
             [
              0.7777777777777778,
              "#fb9f3a"
             ],
             [
              0.8888888888888888,
              "#fdca26"
             ],
             [
              1,
              "#f0f921"
             ]
            ],
            "type": "contour"
           }
          ],
          "contourcarpet": [
           {
            "colorbar": {
             "outlinewidth": 0,
             "ticks": ""
            },
            "type": "contourcarpet"
           }
          ],
          "heatmap": [
           {
            "colorbar": {
             "outlinewidth": 0,
             "ticks": ""
            },
            "colorscale": [
             [
              0,
              "#0d0887"
             ],
             [
              0.1111111111111111,
              "#46039f"
             ],
             [
              0.2222222222222222,
              "#7201a8"
             ],
             [
              0.3333333333333333,
              "#9c179e"
             ],
             [
              0.4444444444444444,
              "#bd3786"
             ],
             [
              0.5555555555555556,
              "#d8576b"
             ],
             [
              0.6666666666666666,
              "#ed7953"
             ],
             [
              0.7777777777777778,
              "#fb9f3a"
             ],
             [
              0.8888888888888888,
              "#fdca26"
             ],
             [
              1,
              "#f0f921"
             ]
            ],
            "type": "heatmap"
           }
          ],
          "heatmapgl": [
           {
            "colorbar": {
             "outlinewidth": 0,
             "ticks": ""
            },
            "colorscale": [
             [
              0,
              "#0d0887"
             ],
             [
              0.1111111111111111,
              "#46039f"
             ],
             [
              0.2222222222222222,
              "#7201a8"
             ],
             [
              0.3333333333333333,
              "#9c179e"
             ],
             [
              0.4444444444444444,
              "#bd3786"
             ],
             [
              0.5555555555555556,
              "#d8576b"
             ],
             [
              0.6666666666666666,
              "#ed7953"
             ],
             [
              0.7777777777777778,
              "#fb9f3a"
             ],
             [
              0.8888888888888888,
              "#fdca26"
             ],
             [
              1,
              "#f0f921"
             ]
            ],
            "type": "heatmapgl"
           }
          ],
          "histogram": [
           {
            "marker": {
             "pattern": {
              "fillmode": "overlay",
              "size": 10,
              "solidity": 0.2
             }
            },
            "type": "histogram"
           }
          ],
          "histogram2d": [
           {
            "colorbar": {
             "outlinewidth": 0,
             "ticks": ""
            },
            "colorscale": [
             [
              0,
              "#0d0887"
             ],
             [
              0.1111111111111111,
              "#46039f"
             ],
             [
              0.2222222222222222,
              "#7201a8"
             ],
             [
              0.3333333333333333,
              "#9c179e"
             ],
             [
              0.4444444444444444,
              "#bd3786"
             ],
             [
              0.5555555555555556,
              "#d8576b"
             ],
             [
              0.6666666666666666,
              "#ed7953"
             ],
             [
              0.7777777777777778,
              "#fb9f3a"
             ],
             [
              0.8888888888888888,
              "#fdca26"
             ],
             [
              1,
              "#f0f921"
             ]
            ],
            "type": "histogram2d"
           }
          ],
          "histogram2dcontour": [
           {
            "colorbar": {
             "outlinewidth": 0,
             "ticks": ""
            },
            "colorscale": [
             [
              0,
              "#0d0887"
             ],
             [
              0.1111111111111111,
              "#46039f"
             ],
             [
              0.2222222222222222,
              "#7201a8"
             ],
             [
              0.3333333333333333,
              "#9c179e"
             ],
             [
              0.4444444444444444,
              "#bd3786"
             ],
             [
              0.5555555555555556,
              "#d8576b"
             ],
             [
              0.6666666666666666,
              "#ed7953"
             ],
             [
              0.7777777777777778,
              "#fb9f3a"
             ],
             [
              0.8888888888888888,
              "#fdca26"
             ],
             [
              1,
              "#f0f921"
             ]
            ],
            "type": "histogram2dcontour"
           }
          ],
          "mesh3d": [
           {
            "colorbar": {
             "outlinewidth": 0,
             "ticks": ""
            },
            "type": "mesh3d"
           }
          ],
          "parcoords": [
           {
            "line": {
             "colorbar": {
              "outlinewidth": 0,
              "ticks": ""
             }
            },
            "type": "parcoords"
           }
          ],
          "pie": [
           {
            "automargin": true,
            "type": "pie"
           }
          ],
          "scatter": [
           {
            "marker": {
             "colorbar": {
              "outlinewidth": 0,
              "ticks": ""
             }
            },
            "type": "scatter"
           }
          ],
          "scatter3d": [
           {
            "line": {
             "colorbar": {
              "outlinewidth": 0,
              "ticks": ""
             }
            },
            "marker": {
             "colorbar": {
              "outlinewidth": 0,
              "ticks": ""
             }
            },
            "type": "scatter3d"
           }
          ],
          "scattercarpet": [
           {
            "marker": {
             "colorbar": {
              "outlinewidth": 0,
              "ticks": ""
             }
            },
            "type": "scattercarpet"
           }
          ],
          "scattergeo": [
           {
            "marker": {
             "colorbar": {
              "outlinewidth": 0,
              "ticks": ""
             }
            },
            "type": "scattergeo"
           }
          ],
          "scattergl": [
           {
            "marker": {
             "colorbar": {
              "outlinewidth": 0,
              "ticks": ""
             }
            },
            "type": "scattergl"
           }
          ],
          "scattermapbox": [
           {
            "marker": {
             "colorbar": {
              "outlinewidth": 0,
              "ticks": ""
             }
            },
            "type": "scattermapbox"
           }
          ],
          "scatterpolar": [
           {
            "marker": {
             "colorbar": {
              "outlinewidth": 0,
              "ticks": ""
             }
            },
            "type": "scatterpolar"
           }
          ],
          "scatterpolargl": [
           {
            "marker": {
             "colorbar": {
              "outlinewidth": 0,
              "ticks": ""
             }
            },
            "type": "scatterpolargl"
           }
          ],
          "scatterternary": [
           {
            "marker": {
             "colorbar": {
              "outlinewidth": 0,
              "ticks": ""
             }
            },
            "type": "scatterternary"
           }
          ],
          "surface": [
           {
            "colorbar": {
             "outlinewidth": 0,
             "ticks": ""
            },
            "colorscale": [
             [
              0,
              "#0d0887"
             ],
             [
              0.1111111111111111,
              "#46039f"
             ],
             [
              0.2222222222222222,
              "#7201a8"
             ],
             [
              0.3333333333333333,
              "#9c179e"
             ],
             [
              0.4444444444444444,
              "#bd3786"
             ],
             [
              0.5555555555555556,
              "#d8576b"
             ],
             [
              0.6666666666666666,
              "#ed7953"
             ],
             [
              0.7777777777777778,
              "#fb9f3a"
             ],
             [
              0.8888888888888888,
              "#fdca26"
             ],
             [
              1,
              "#f0f921"
             ]
            ],
            "type": "surface"
           }
          ],
          "table": [
           {
            "cells": {
             "fill": {
              "color": "#EBF0F8"
             },
             "line": {
              "color": "white"
             }
            },
            "header": {
             "fill": {
              "color": "#C8D4E3"
             },
             "line": {
              "color": "white"
             }
            },
            "type": "table"
           }
          ]
         },
         "layout": {
          "annotationdefaults": {
           "arrowcolor": "#2a3f5f",
           "arrowhead": 0,
           "arrowwidth": 1
          },
          "autotypenumbers": "strict",
          "coloraxis": {
           "colorbar": {
            "outlinewidth": 0,
            "ticks": ""
           }
          },
          "colorscale": {
           "diverging": [
            [
             0,
             "#8e0152"
            ],
            [
             0.1,
             "#c51b7d"
            ],
            [
             0.2,
             "#de77ae"
            ],
            [
             0.3,
             "#f1b6da"
            ],
            [
             0.4,
             "#fde0ef"
            ],
            [
             0.5,
             "#f7f7f7"
            ],
            [
             0.6,
             "#e6f5d0"
            ],
            [
             0.7,
             "#b8e186"
            ],
            [
             0.8,
             "#7fbc41"
            ],
            [
             0.9,
             "#4d9221"
            ],
            [
             1,
             "#276419"
            ]
           ],
           "sequential": [
            [
             0,
             "#0d0887"
            ],
            [
             0.1111111111111111,
             "#46039f"
            ],
            [
             0.2222222222222222,
             "#7201a8"
            ],
            [
             0.3333333333333333,
             "#9c179e"
            ],
            [
             0.4444444444444444,
             "#bd3786"
            ],
            [
             0.5555555555555556,
             "#d8576b"
            ],
            [
             0.6666666666666666,
             "#ed7953"
            ],
            [
             0.7777777777777778,
             "#fb9f3a"
            ],
            [
             0.8888888888888888,
             "#fdca26"
            ],
            [
             1,
             "#f0f921"
            ]
           ],
           "sequentialminus": [
            [
             0,
             "#0d0887"
            ],
            [
             0.1111111111111111,
             "#46039f"
            ],
            [
             0.2222222222222222,
             "#7201a8"
            ],
            [
             0.3333333333333333,
             "#9c179e"
            ],
            [
             0.4444444444444444,
             "#bd3786"
            ],
            [
             0.5555555555555556,
             "#d8576b"
            ],
            [
             0.6666666666666666,
             "#ed7953"
            ],
            [
             0.7777777777777778,
             "#fb9f3a"
            ],
            [
             0.8888888888888888,
             "#fdca26"
            ],
            [
             1,
             "#f0f921"
            ]
           ]
          },
          "colorway": [
           "#636efa",
           "#EF553B",
           "#00cc96",
           "#ab63fa",
           "#FFA15A",
           "#19d3f3",
           "#FF6692",
           "#B6E880",
           "#FF97FF",
           "#FECB52"
          ],
          "font": {
           "color": "#2a3f5f"
          },
          "geo": {
           "bgcolor": "white",
           "lakecolor": "white",
           "landcolor": "#E5ECF6",
           "showlakes": true,
           "showland": true,
           "subunitcolor": "white"
          },
          "hoverlabel": {
           "align": "left"
          },
          "hovermode": "closest",
          "mapbox": {
           "style": "light"
          },
          "paper_bgcolor": "white",
          "plot_bgcolor": "#E5ECF6",
          "polar": {
           "angularaxis": {
            "gridcolor": "white",
            "linecolor": "white",
            "ticks": ""
           },
           "bgcolor": "#E5ECF6",
           "radialaxis": {
            "gridcolor": "white",
            "linecolor": "white",
            "ticks": ""
           }
          },
          "scene": {
           "xaxis": {
            "backgroundcolor": "#E5ECF6",
            "gridcolor": "white",
            "gridwidth": 2,
            "linecolor": "white",
            "showbackground": true,
            "ticks": "",
            "zerolinecolor": "white"
           },
           "yaxis": {
            "backgroundcolor": "#E5ECF6",
            "gridcolor": "white",
            "gridwidth": 2,
            "linecolor": "white",
            "showbackground": true,
            "ticks": "",
            "zerolinecolor": "white"
           },
           "zaxis": {
            "backgroundcolor": "#E5ECF6",
            "gridcolor": "white",
            "gridwidth": 2,
            "linecolor": "white",
            "showbackground": true,
            "ticks": "",
            "zerolinecolor": "white"
           }
          },
          "shapedefaults": {
           "line": {
            "color": "#2a3f5f"
           }
          },
          "ternary": {
           "aaxis": {
            "gridcolor": "white",
            "linecolor": "white",
            "ticks": ""
           },
           "baxis": {
            "gridcolor": "white",
            "linecolor": "white",
            "ticks": ""
           },
           "bgcolor": "#E5ECF6",
           "caxis": {
            "gridcolor": "white",
            "linecolor": "white",
            "ticks": ""
           }
          },
          "title": {
           "x": 0.05
          },
          "xaxis": {
           "automargin": true,
           "gridcolor": "white",
           "linecolor": "white",
           "ticks": "",
           "title": {
            "standoff": 15
           },
           "zerolinecolor": "white",
           "zerolinewidth": 2
          },
          "yaxis": {
           "automargin": true,
           "gridcolor": "white",
           "linecolor": "white",
           "ticks": "",
           "title": {
            "standoff": 15
           },
           "zerolinecolor": "white",
           "zerolinewidth": 2
          }
         }
        },
        "title": {
         "font": {
          "size": 30
         },
         "text": "Is LK-99 a Room-Temperature Superconductor?"
        },
        "xaxis": {
         "anchor": "y",
         "domain": [
          0,
          1
         ],
         "title": {
          "text": "date"
         }
        },
        "yaxis": {
         "anchor": "x",
         "domain": [
          0,
          1
         ],
         "title": {
          "text": "likelihood_adjusted"
         }
        }
       }
      }
     },
     "metadata": {},
     "output_type": "display_data"
    }
   ],
   "source": [
    "import numpy as np\n",
    "import plotly.graph_objects as go\n",
    "from scipy.stats import norm\n",
    "means_list = [0]\n",
    "means_list = [-100]\n",
    "means_list = [-90]\n",
    "variances_list = [100]\n",
    "cdf_list = [0.5]\n",
    "\n",
    "for i, row in df.iterrows():\n",
    "    #Add means\n",
    "    if row['lk99_veracity']=='yes':\n",
    "        mean=1\n",
    "    elif row['lk99_veracity']=='neutral':\n",
    "        mean=0\n",
    "    elif row['lk99_veracity']=='no':\n",
    "        mean=-1\n",
    "    #Add stdevs\n",
    "    if type(row['journal_if']) is not float:\n",
    "        variance=100\n",
    "    else:\n",
    "        if float(row['journal_if'])<1:#Not a trusted journal\n",
    "            variance=80\n",
    "        if float(row['journal_if'])<5:#Semi-trusted journal\n",
    "            variance=20\n",
    "        else:#Well-respected journal\n",
    "            variance=10\n",
    "    new_variance = 1./(1./variances_list[-1] + 1./variance)\n",
    "    new_mean = new_variance * (means_list[-1]/variances_list[-1] + mean/variance)\n",
    "    #print(row['lk99_veracity'],row['journal_if'],new_mean,new_variance)\n",
    "    means_list.append(new_mean)\n",
    "    variances_list.append(new_variance)\n",
    "    cdf_list.append(1.0-norm.cdf(0,new_mean,new_variance))\n",
    "\n",
    "df['means']=means_list[1:]\n",
    "df['iter_variances']=variances_list[1:]\n",
    "df['likelihood_adjusted']=cdf_list[1:]\n",
    "\n",
    "#all_dates = [df['date'][0]]+df['date'].tolist()\n",
    "#plt.plot(all_dates,means_list)\n",
    "\n",
    "#fig = go.Figure(data=[go.Scatter(x=all_dates,y=means_list,mode='lines+markers')])\n",
    "#fig.show()\n",
    "import plotly.express as px\n",
    "fig = px.line(df,x='date',y='likelihood_adjusted',hover_name='paper_title',hover_data=['doi','lk99_veracity','journal','journal_if','citations'],markers=True)\n",
    "fig.add_scatter(x=betting_df['date'],y=betting_df['probability'])\n",
    "fig.update_layout(title={'text':'Is LK-99 a Room-Temperature Superconductor?','font':{'size':30}})\n",
    "fig.show()"
   ]
  },
  {
   "cell_type": "code",
   "execution_count": 42,
   "metadata": {},
   "outputs": [
    {
     "data": {
      "image/png": "[encoded data removed]",
      "text/plain": [
       "<Figure size 1152x288 with 1 Axes>"
      ]
     },
     "metadata": {
      "needs_background": "light"
     },
     "output_type": "display_data"
    }
   ],
   "source": [
    "import matplotlib.pyplot as plt\n",
    "plt.figure(figsize=(16,4))\n",
    "plt.plot(df['date'],df['likelihood'],color='gray',label='Unadjusted Initial Probability')\n",
    "plt.scatter(df['date'],df['likelihood'],color='gray')\n",
    "plt.plot(df['date'],df['likelihood_adjusted'],color='k',label='Adjusted Initial Probability')\n",
    "plt.scatter(df['date'],df['likelihood_adjusted'],color='k')\n",
    "plt.plot(betting_df['date'],betting_df['probability'],color='r',linewidth=2,label='Manifold Markets Probability')\n",
    "plt.xlabel('Date of Publication',fontsize=16)\n",
    "plt.ylabel('Hypothesis Likelihood',fontsize=16)\n",
    "plt.xticks(fontsize=12)\n",
    "plt.yticks(fontsize=12)\n",
    "plt.xlim([df['date'].tolist()[0],df['date'].tolist()[-1]])\n",
    "plt.legend(fontsize=12)\n",
    "plt.grid()\n",
    "plt.show()"
   ]
  },
  {
   "cell_type": "code",
   "execution_count": null,
   "metadata": {},
   "outputs": [],
   "source": []
  }
 ],
 "metadata": {
  "kernelspec": {
   "display_name": "mschwart_env",
   "language": "python",
   "name": "python3"
  },
  "language_info": {
   "codemirror_mode": {
    "name": "ipython",
    "version": 3
   },
   "file_extension": ".py",
   "mimetype": "text/x-python",
   "name": "python",
   "nbconvert_exporter": "python",
   "pygments_lexer": "ipython3",
   "version": "3.10.9"
  },
  "orig_nbformat": 4
 },
 "nbformat": 4,
 "nbformat_minor": 2
}
